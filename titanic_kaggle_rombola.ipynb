{
  "cells": [
    {
      "cell_type": "markdown",
      "metadata": {
        "id": "loHQtOkci_2e"
      },
      "source": [
        "# Titanic - Machine Learning from Disaster\n",
        "\n",
        "The competition is simple: use machine learning to create a model that predicts which passengers survived the Titanic shipwreck.\n",
        "\n",
        "[See more here](https://www.kaggle.com/competitions/titanic)\n"
      ]
    },
    {
      "cell_type": "code",
      "execution_count": null,
      "metadata": {
        "id": "7aK7CorWi8aC"
      },
      "outputs": [],
      "source": [
        "import matplotlib.pyplot as plt\n",
        "import numpy as np\n",
        "from google.colab import drive # Para montar nuestro drive en la consola\n",
        "import pandas as pd"
      ]
    },
    {
      "cell_type": "code",
      "execution_count": null,
      "metadata": {
        "colab": {
          "base_uri": "https://localhost:8080/"
        },
        "id": "fN5JLGMPi_du",
        "outputId": "1f02682f-0d7a-403f-ed5a-a291d1efffe7"
      },
      "outputs": [
        {
          "output_type": "stream",
          "name": "stdout",
          "text": [
            "Drive already mounted at /content/drive; to attempt to forcibly remount, call drive.mount(\"/content/drive\", force_remount=True).\n"
          ]
        }
      ],
      "source": [
        "drive.mount('/content/drive') # Mount Google Drive"
      ]
    },
    {
      "cell_type": "code",
      "execution_count": null,
      "metadata": {
        "id": "_JHdOUPpnoZJ"
      },
      "outputs": [],
      "source": [
        "# Obtain the data\n",
        "folder = '/content/drive/My Drive/datasets/titanic/'\n",
        "filename_train = folder + 'train.csv'\n",
        "filename_test = folder + 'test.csv'\n",
        "filename_gender = folder + 'gender_submission.csv'\n",
        "\n",
        "# Build the dataframes\n",
        "df_train = pd.read_csv(filename_train, delimiter=',')\n",
        "df_test = pd.read_csv(filename_test, delimiter=',')\n",
        "df_gender = pd.read_csv(filename_gender, delimiter=',')"
      ]
    },
    {
      "cell_type": "code",
      "execution_count": null,
      "metadata": {
        "colab": {
          "base_uri": "https://localhost:8080/"
        },
        "id": "5BJbBU9lorlN",
        "outputId": "060d8c91-0fa1-4678-e65b-54ed069c17aa"
      },
      "outputs": [
        {
          "output_type": "stream",
          "name": "stdout",
          "text": [
            "<class 'pandas.core.frame.DataFrame'>\n",
            "Int64Index: 712 entries, 0 to 890\n",
            "Data columns (total 12 columns):\n",
            " #   Column       Non-Null Count  Dtype  \n",
            "---  ------       --------------  -----  \n",
            " 0   PassengerId  712 non-null    int64  \n",
            " 1   Survived     712 non-null    int64  \n",
            " 2   Pclass       712 non-null    int64  \n",
            " 3   Name         712 non-null    object \n",
            " 4   Sex          712 non-null    object \n",
            " 5   Age          712 non-null    float64\n",
            " 6   SibSp        712 non-null    int64  \n",
            " 7   Parch        712 non-null    int64  \n",
            " 8   Ticket       712 non-null    object \n",
            " 9   Fare         712 non-null    float64\n",
            " 10  Cabin        183 non-null    object \n",
            " 11  Embarked     712 non-null    object \n",
            "dtypes: float64(2), int64(5), object(5)\n",
            "memory usage: 72.3+ KB\n",
            "None\n",
            "<class 'pandas.core.frame.DataFrame'>\n",
            "RangeIndex: 418 entries, 0 to 417\n",
            "Data columns (total 11 columns):\n",
            " #   Column       Non-Null Count  Dtype  \n",
            "---  ------       --------------  -----  \n",
            " 0   PassengerId  418 non-null    int64  \n",
            " 1   Pclass       418 non-null    int64  \n",
            " 2   Name         418 non-null    object \n",
            " 3   Sex          418 non-null    object \n",
            " 4   Age          418 non-null    float64\n",
            " 5   SibSp        418 non-null    int64  \n",
            " 6   Parch        418 non-null    int64  \n",
            " 7   Ticket       418 non-null    object \n",
            " 8   Fare         418 non-null    float64\n",
            " 9   Cabin        91 non-null     object \n",
            " 10  Embarked     418 non-null    object \n",
            "dtypes: float64(2), int64(4), object(5)\n",
            "memory usage: 36.0+ KB\n",
            "None\n"
          ]
        }
      ],
      "source": [
        "# Delete rows that the age or embarked are missing\n",
        "df_train = df_train.dropna(subset=['Age', 'Embarked'], axis=0)\n",
        "# df_train[['Age']] = df_train[['Age']].fillna(np.nanmean(df_train['Age'].values), axis=0)\n",
        "# df_train[['Embarked']] = df_train[['Embarked']].fillna(df_train['Embarked'].mode(), axis=0)\n",
        "\n",
        "# Complete the test data set\n",
        "# df_test = df_test.dropna(subset=['Age', 'Embarked'], axis=0)\n",
        "df_test[['Age']] = df_test[['Age']].fillna(np.nanmean(df_test['Age'].values), axis=0)\n",
        "df_test[['Fare']] = df_test[['Fare']].fillna(np.nanmean(df_test['Fare'].values), axis=0)\n",
        "\n",
        "# Cabin also has missing values but it's not gonna be used for logistic regression\n",
        "\n",
        "# Let see the summary of the datasets\n",
        "print(df_train.info())\n",
        "print(df_test.info())"
      ]
    },
    {
      "cell_type": "code",
      "execution_count": null,
      "metadata": {
        "colab": {
          "base_uri": "https://localhost:8080/"
        },
        "id": "Olr3GnX6ssBY",
        "outputId": "2ad50c93-01ae-44ce-e8ae-84bed23afa9a"
      },
      "outputs": [
        {
          "output_type": "stream",
          "name": "stderr",
          "text": [
            "/usr/local/lib/python3.8/dist-packages/pandas/core/indexing.py:1684: SettingWithCopyWarning: \n",
            "A value is trying to be set on a copy of a slice from a DataFrame.\n",
            "Try using .loc[row_indexer,col_indexer] = value instead\n",
            "\n",
            "See the caveats in the documentation: https://pandas.pydata.org/pandas-docs/stable/user_guide/indexing.html#returning-a-view-versus-a-copy\n",
            "  self.obj[key] = infer_fill_value(value)\n",
            "/usr/local/lib/python3.8/dist-packages/pandas/core/indexing.py:1817: SettingWithCopyWarning: \n",
            "A value is trying to be set on a copy of a slice from a DataFrame.\n",
            "Try using .loc[row_indexer,col_indexer] = value instead\n",
            "\n",
            "See the caveats in the documentation: https://pandas.pydata.org/pandas-docs/stable/user_guide/indexing.html#returning-a-view-versus-a-copy\n",
            "  self._setitem_single_column(loc, value, pi)\n"
          ]
        }
      ],
      "source": [
        "# Buid Dummies variables\n",
        "\n",
        "# Sex feature\n",
        "df_train.loc[df_train['Sex'] == 'female', 'Sex_Dummy'] = 1\n",
        "df_train.loc[df_train['Sex'] == 'male', 'Sex_Dummy'] = 0\n",
        "\n",
        "df_test.loc[df_test['Sex'] == 'female', 'Sex_Dummy'] = 1\n",
        "df_test.loc[df_test['Sex'] == 'male', 'Sex_Dummy'] = 0\n",
        "\n",
        "# Embarked feature\n",
        "df_train = pd.concat([df_train, pd.get_dummies(df_train['Embarked'], prefix='Embarked')], axis=1)\n",
        "df_test = pd.concat([df_test, pd.get_dummies(df_test['Embarked'], prefix='Embarked')], axis=1)"
      ]
    },
    {
      "cell_type": "code",
      "execution_count": null,
      "metadata": {
        "colab": {
          "base_uri": "https://localhost:8080/",
          "height": 499
        },
        "id": "dq1Ncuait2CP",
        "outputId": "4c428316-e8e4-451c-d185-ff96930a4253"
      },
      "outputs": [
        {
          "output_type": "display_data",
          "data": {
            "text/plain": [
              "<Figure size 864x576 with 4 Axes>"
            ],
            "image/png": "[encoded data removed]"
          },
          "metadata": {
            "needs_background": "light"
          }
        }
      ],
      "source": [
        "# Studying the data\n",
        "plt.figure(figsize=(12,8))\n",
        "\n",
        "plt.subplot(221)\n",
        "plt.title('Age')\n",
        "plt.hist(df_train['Age'], bins='auto')\n",
        "\n",
        "plt.subplot(222)\n",
        "plt.title('Pclass')\n",
        "plt.hist(df_train['Pclass'], bins='auto')\n",
        "\n",
        "plt.subplot(223)\n",
        "plt.title('SibSp')\n",
        "plt.hist(df_train['SibSp'], bins='auto')\n",
        "\n",
        "plt.subplot(224)\n",
        "plt.title('Fare')\n",
        "plt.hist(df_train['Fare'], bins='auto')\n",
        "\n",
        "plt.show()"
      ]
    },
    {
      "cell_type": "code",
      "execution_count": null,
      "metadata": {
        "id": "SjCABR63wEg3"
      },
      "outputs": [],
      "source": [
        "# Libraries\n",
        "import itertools\n",
        "from sklearn.preprocessing import MinMaxScaler\n",
        "from sklearn.linear_model import LogisticRegression\n",
        "from sklearn.model_selection import train_test_split\n",
        "from sklearn.metrics import confusion_matrix\n",
        "from sklearn.preprocessing import PolynomialFeatures\n",
        "# Functions \n",
        "\n",
        "# Confusion Matrix plotting function\n",
        "def plot_confusion_matrix(cm, classes,\n",
        "                          normalize=False,\n",
        "                          title='Confusion matrix',\n",
        "                          cmap=plt.cm.Blues):\n",
        "    \"\"\"\n",
        "    This function prints and plots the confusion matrix.\n",
        "    Normalization can be applied by setting `normalize=True`.\n",
        "    \"\"\"\n",
        "    plt.figure(figsize=(8,6))\n",
        "    plt.imshow(cm, interpolation='nearest', cmap=cmap)\n",
        "    plt.title(title)\n",
        "    plt.colorbar()\n",
        "    tick_marks = np.arange(len(classes))\n",
        "    plt.xticks(tick_marks, classes, rotation=45)\n",
        "    plt.yticks(tick_marks, classes)\n",
        "\n",
        "    if normalize:\n",
        "        cm = cm.astype('float') / cm.sum(axis=1)[:, np.newaxis]\n",
        "\n",
        "    thresh = cm.max() / 2.\n",
        "    for i, j in itertools.product(range(cm.shape[0]), range(cm.shape[1])):\n",
        "        plt.text(j, i, cm[i, j],\n",
        "                 horizontalalignment=\"center\",\n",
        "                 color=\"white\" if cm[i, j] > thresh else \"black\")\n",
        "\n",
        "    plt.tight_layout()\n",
        "    plt.ylabel('Observation')\n",
        "    plt.xlabel('Predict')\n",
        "\n",
        "def metrics(cm, make_print=False):\n",
        "  tp = cm[1, 1]\n",
        "  fn = cm[0, 1]\n",
        "  tn = cm[0, 0]\n",
        "  fp = cm[1, 0]\n",
        "\n",
        "  sensitivity = tp/(tp+fn)\n",
        "  specificity = tn/(tn+fp)\n",
        "  balanced_accuracy = (sensitivity + specificity)/2\n",
        "  if make_print:\n",
        "    print('Confusion Matrix: ')\n",
        "    print(cm)\n",
        "    print(f'sensitivity: {round(sensitivity, 4)}')\n",
        "    print(f'specificity: {round(specificity, 4)}')\n",
        "    print(f'balanced_accuracy: {round(balanced_accuracy, 4)}')\n",
        "  return {'sensitivity': sensitivity, \n",
        "          'specificity': specificity, \n",
        "          'balanced_accuracy': balanced_accuracy}\n",
        "\n",
        "def classifier (X, y, penalty='none', n=1, interaction=False, C=None, test_size=0.3):\n",
        "  # n maxima potencia\n",
        "  # C constante de penalizacion\n",
        "\n",
        "  if interaction:\n",
        "    poly = PolynomialFeatures(degree=n)\n",
        "    new_X = poly.fit_transform(X)\n",
        "  else:\n",
        "    new_X = X.copy()\n",
        "    for i in np.arange(2, n, 1):\n",
        "      new_X = np.concatenate((new_X, X**i), axis=1)\n",
        "  # Build sets\n",
        "  X_train, X_test, y_train, y_test = train_test_split(new_X, y, test_size=test_size)\n",
        "\n",
        "  # Rescale train\n",
        "  scaler = MinMaxScaler()\n",
        "  scaler.fit(X_train)\n",
        "  X_train = scaler.transform(X_train)\n",
        "\n",
        "  # Rescale test\n",
        "  scaler = MinMaxScaler()\n",
        "  scaler.fit(X_test)\n",
        "  X_test = scaler.transform(X_test)\n",
        "\n",
        "  # Model\n",
        "  if C:\n",
        "    regLog = LogisticRegression(penalty=penalty, class_weight='balanced', C=C, max_iter=5e3) # Default max_iter is 100 (1e2)\n",
        "  else:\n",
        "    regLog = LogisticRegression(penalty=penalty, class_weight='balanced', max_iter=5e3) # Default max_iter is 100 (1e2)\n",
        "  regLog.fit(X_train, y_train)\n",
        "\n",
        "  # Predict and CM\n",
        "  score_train = regLog.score(X_train, y_train)\n",
        "  score_test = regLog.score(X_test, y_test)\n",
        "\n",
        "  y_train_pred = regLog.predict(X_train)\n",
        "  y_test_pred = regLog.predict(X_test)\n",
        "\n",
        "  cm_train = confusion_matrix(y_train_pred, y_train)\n",
        "  cm_test = confusion_matrix(y_test_pred, y_test)\n",
        "  \n",
        "  metrics_train = metrics(cm_train)\n",
        "  metrics_test = metrics(cm_test)\n",
        "\n",
        "  proba_train = regLog.predict_proba(X_train)\n",
        "  proba_test = regLog.predict_proba(X_test)\n",
        "  return {\n",
        "      'train': {\n",
        "          'score': score_train, \n",
        "          'cm': cm_train,\n",
        "          'sensitivity': metrics_train['sensitivity'],\n",
        "          'specificity': metrics_train['specificity'],\n",
        "          'balanced_accuracy': metrics_train['balanced_accuracy'],\n",
        "          'proba': proba_train,\n",
        "          'y_train': y_train,\n",
        "          'X_train': X_train,\n",
        "      },\n",
        "      'test': {\n",
        "          'score': score_test, \n",
        "          'cm': cm_test,\n",
        "          'sensitivity': metrics_test['sensitivity'],\n",
        "          'specificity': metrics_test['specificity'],\n",
        "          'balanced_accuracy': metrics_test['balanced_accuracy'],\n",
        "          'proba': proba_test,\n",
        "          'y_test': y_test,\n",
        "          'X_test': X_test,\n",
        "      },\n",
        "      'model': regLog\n",
        "  }\n",
        "\n",
        "def grid_search(n_values, C_values, iterations:int):\n",
        "  mean_BA_train = np.zeros((len(n_values), len(C_values)))\n",
        "  mean_BA_test = np.zeros((len(n_values), len(C_values)))\n",
        "\n",
        "  for xx, n in enumerate(n_values):\n",
        "    for yy, C in enumerate(C_values):\n",
        "      print(f\"Procesando n = {n}, C = {C}\")\n",
        "      ba_train = []\n",
        "      ba_test = []\n",
        "      for i in range(iterations):\n",
        "        result = classifier(X_train, y_train, penalty='l2', interaction=True, n=n, C=C)\n",
        "        ba_train.append(result['train']['balanced_accuracy'])\n",
        "        ba_test.append(result['test']['balanced_accuracy'])\n",
        "      mean_BA_train[xx, yy] = np.mean(ba_train)\n",
        "      mean_BA_test[xx, yy] = np.mean(ba_test)\n",
        "\n",
        "  return {'mean_BA_train': mean_BA_train,\n",
        "          'mean_BA_test': mean_BA_test,\n",
        "          }          "
      ]
    },
    {
      "cell_type": "code",
      "execution_count": null,
      "metadata": {
        "id": "x2QF4-KLzAUI"
      },
      "outputs": [],
      "source": [
        "# Features\n",
        "features = ['Age', 'Sex_Dummy', 'Pclass', 'SibSp', 'Fare', 'Embarked_C', 'Embarked_Q', 'Embarked_S']\n",
        "X_train = df_train[features].values.copy()\n",
        "y_train = df_train['Survived'].copy()\n",
        "\n",
        "X_validation = df_test[features].values.copy() # Test\n",
        "\n",
        "result = classifier(X_train, y_train, penalty='l2', interaction=True, n=10, C=1)\n",
        "\n",
        "from sklearn.preprocessing import MinMaxScaler\n",
        "# Rescale test\n",
        "scaler = MinMaxScaler()\n",
        "scaler.fit(X_validation)\n",
        "X_validation = scaler.transform(X_validation)\n",
        "\n"
      ]
    },
    {
      "cell_type": "code",
      "execution_count": null,
      "metadata": {
        "colab": {
          "base_uri": "https://localhost:8080/"
        },
        "id": "eIdD47zW1ZI6",
        "outputId": "55a1c3c1-c38d-422f-ce74-3bad7fe4bd48"
      },
      "outputs": [
        {
          "output_type": "stream",
          "name": "stdout",
          "text": [
            "Procesando n = 2, C = 3.0\n",
            "Procesando n = 2, C = 3.25\n",
            "Procesando n = 2, C = 3.5\n",
            "Procesando n = 2, C = 3.75\n",
            "Procesando n = 2, C = 4.0\n",
            "Procesando n = 2, C = 4.25\n",
            "Procesando n = 2, C = 4.5\n",
            "Procesando n = 2, C = 4.75\n",
            "Procesando n = 3, C = 3.0\n",
            "Procesando n = 3, C = 3.25\n",
            "Procesando n = 3, C = 3.5\n",
            "Procesando n = 3, C = 3.75\n",
            "Procesando n = 3, C = 4.0\n",
            "Procesando n = 3, C = 4.25\n",
            "Procesando n = 3, C = 4.5\n",
            "Procesando n = 3, C = 4.75\n",
            "Procesando n = 4, C = 3.0\n",
            "Procesando n = 4, C = 3.25\n",
            "Procesando n = 4, C = 3.5\n",
            "Procesando n = 4, C = 3.75\n",
            "Procesando n = 4, C = 4.0\n",
            "Procesando n = 4, C = 4.25\n",
            "Procesando n = 4, C = 4.5\n",
            "Procesando n = 4, C = 4.75\n",
            "CPU times: user 7min 21s, sys: 4min 40s, total: 12min 1s\n",
            "Wall time: 6min 16s\n"
          ]
        }
      ],
      "source": [
        "%%time\n",
        "# Grid Search\n",
        "# -----------------\n",
        "\n",
        "# Features\n",
        "features = ['Age', 'Sex_Dummy', 'Pclass', 'SibSp', 'Fare', 'Embarked_C', 'Embarked_Q', 'Embarked_S']\n",
        "X_train = df_train[features].values.copy()\n",
        "y_train = df_train['Survived'].copy()\n",
        "\n",
        "# Build the grid\n",
        "C_values = np.array([3, 3.25, 3.5, 3.75, 4, 4.25, 4.5, 4.75])\n",
        "n_values = np.arange(2, 5, 1)\n",
        "\n",
        "result_grid_search = grid_search(n_values, C_values, iterations=200)"
      ]
    },
    {
      "cell_type": "code",
      "execution_count": null,
      "metadata": {
        "id": "x08Q2bG412j4",
        "colab": {
          "base_uri": "https://localhost:8080/",
          "height": 72
        },
        "outputId": "5363dbd1-b0aa-4c43-b3e5-4cec0624132f"
      },
      "outputs": [
        {
          "output_type": "display_data",
          "data": {
            "text/plain": [
              "<Figure size 576x432 with 2 Axes>"
            ],
            "image/png": "[encoded data removed]"
          },
          "metadata": {
            "needs_background": "light"
          }
        },
        {
          "output_type": "display_data",
          "data": {
            "text/plain": [
              "<Figure size 576x432 with 2 Axes>"
            ],
            "image/png": "[encoded data removed]"
          },
          "metadata": {
            "needs_background": "light"
          }
        }
      ],
      "source": [
        "# Plot test grid and train grid\n",
        "\n",
        "plt.figure(figsize=(8,6))\n",
        "contours = plt.contourf(n_values, C_values, np.transpose(result_grid_search['mean_BA_train']))\n",
        "plt.clabel(contours, inline=1, fontsize=7)\n",
        "plt.colorbar()\n",
        "plt.xticks(n_values)\n",
        "plt.yticks(C_values)\n",
        "plt.xlabel('Valores de n')\n",
        "plt.ylabel('Valores de C')\n",
        "plt.title('Balanced Accuracy - TRAIN')\n",
        "plt.show()\n",
        "\n",
        "plt.figure(figsize=(8,6))\n",
        "contours = plt.contourf(n_values, C_values, np.transpose(result_grid_search['mean_BA_test']))\n",
        "plt.clabel(contours, inline=1, fontsize=7)\n",
        "plt.colorbar()\n",
        "plt.xlabel('Valores de n')\n",
        "plt.ylabel('Valores de C')\n",
        "plt.xticks(n_values)\n",
        "plt.yticks(C_values)\n",
        "plt.title('Balanced Accuracy - TEST')\n",
        "plt.show()"
      ]
    },
    {
      "cell_type": "code",
      "execution_count": null,
      "metadata": {
        "id": "DQIx7Pzl3kSq",
        "colab": {
          "base_uri": "https://localhost:8080/",
          "height": 106
        },
        "outputId": "1e09b119-dad2-4fa0-aa77-fbd4f677d642"
      },
      "outputs": [
        {
          "output_type": "stream",
          "name": "stdout",
          "text": [
            "Balanced Accuracy = 0.810752688172043\n",
            "AUC = 0.8445340501792116\n",
            "F1 Score = 0.7796610169491527\n"
          ]
        },
        {
          "output_type": "display_data",
          "data": {
            "text/plain": [
              "<Figure size 576x432 with 1 Axes>"
            ],
            "image/png": "[encoded data removed]"
          },
          "metadata": {
            "needs_background": "light"
          }
        }
      ],
      "source": [
        "# Train with best hiperparameters\n",
        "\n",
        "# Features\n",
        "features = ['Age', 'Sex_Dummy', 'Pclass', 'SibSp', 'Fare', 'Embarked_C', 'Embarked_Q', 'Embarked_S']\n",
        "X_train = df_train[features].values.copy()\n",
        "y_train = df_train['Survived'].copy()\n",
        "\n",
        "result = classifier(X_train, y_train, penalty='l2', interaction=True, n=3, C=5)\n",
        "\n",
        "print(f\"Balanced Accuracy = {result['test']['balanced_accuracy']}\")\n",
        "\n",
        "from sklearn.metrics import roc_curve, roc_auc_score, f1_score\n",
        "\n",
        "FPR, TPR, Thresholds = roc_curve(result['test']['y_test'], result['model'].predict_proba(result['test']['X_test'])[:, 1], drop_intermediate=True)\n",
        "auc = roc_auc_score(result['test']['y_test'], result['model'].predict_proba(result['test']['X_test'])[:, 1])\n",
        "f1 = f1_score(result['test']['y_test'], result['model'].predict(result['test']['X_test']))\n",
        "\n",
        "print(f\"AUC = {auc}\")\n",
        "print(f\"F1 Score = {f1}\")\n",
        "\n",
        "FPR_random, TPR_random, t_rendom = roc_curve(result['test']['y_test'], np.random.rand(len(result['test']['y_test'])), drop_intermediate=True)\n",
        "\n",
        "plt.figure(figsize = (8, 6))\n",
        "plt.title('ROC CURVE')\n",
        "plt.plot([0, 1], [0, 1], label='Random Classifier')\n",
        "plt.plot([0, 0, 1], [0, 1, 1], label='Perfect Classifier')\n",
        "plt.plot(FPR, TPR, linewidth = 2, label='My Classifier')\n",
        "plt.legend()\n",
        "plt.show()"
      ]
    },
    {
      "cell_type": "code",
      "source": [
        "# Test with test data given by Kaggle\n",
        "\n",
        "from sklearn.preprocessing import PolynomialFeatures, MinMaxScaler\n",
        "\n",
        "features = ['Age', 'Sex_Dummy', 'Pclass', 'SibSp', 'Fare', 'Embarked_C', 'Embarked_Q', 'Embarked_S']\n",
        "features_with_id = ['PassengerId', 'Age', 'Sex_Dummy', 'Pclass', 'SibSp', 'Fare', 'Embarked_C', 'Embarked_Q', 'Embarked_S']\n",
        "X_real_test = df_test[features_with_id].copy()\n",
        "print(X_real_test.info())\n",
        "PassengerId  = X_real_test['PassengerId']\n",
        "X_real_test = X_real_test[features]\n",
        "\n",
        "poly = PolynomialFeatures(degree=3)\n",
        "X_real_test_modified = poly.fit_transform(X_real_test.values)\n",
        "\n",
        "# Rescale \n",
        "scaler = MinMaxScaler()\n",
        "scaler.fit(X_real_test_modified)\n",
        "X_real_test_modified = scaler.transform(X_real_test_modified)\n",
        "\n",
        "\n",
        "y_pred = result['model'].predict(X_real_test_modified)\n",
        "y_pred_score = result['model'].predict_proba(X_real_test_modified)\n",
        "\n",
        "\n",
        "df_final = pd.DataFrame({'PassengerId': PassengerId, 'Survived': y_pred})\n",
        "df_final = df_final.reset_index(drop=True)\n",
        "\n",
        "print(y_pred.shape)\n",
        "print(PassengerId.shape)"
      ],
      "metadata": {
        "colab": {
          "base_uri": "https://localhost:8080/"
        },
        "id": "0hV0V5V1LmJ2",
        "outputId": "238e1c7c-c298-4a34-82a8-16bb1042da99"
      },
      "execution_count": null,
      "outputs": [
        {
          "output_type": "stream",
          "name": "stdout",
          "text": [
            "<class 'pandas.core.frame.DataFrame'>\n",
            "RangeIndex: 418 entries, 0 to 417\n",
            "Data columns (total 9 columns):\n",
            " #   Column       Non-Null Count  Dtype  \n",
            "---  ------       --------------  -----  \n",
            " 0   PassengerId  418 non-null    int64  \n",
            " 1   Age          418 non-null    float64\n",
            " 2   Sex_Dummy    418 non-null    float64\n",
            " 3   Pclass       418 non-null    int64  \n",
            " 4   SibSp        418 non-null    int64  \n",
            " 5   Fare         418 non-null    float64\n",
            " 6   Embarked_C   418 non-null    uint8  \n",
            " 7   Embarked_Q   418 non-null    uint8  \n",
            " 8   Embarked_S   418 non-null    uint8  \n",
            "dtypes: float64(3), int64(3), uint8(3)\n",
            "memory usage: 20.9 KB\n",
            "None\n",
            "(418,)\n",
            "(418,)\n"
          ]
        }
      ]
    },
    {
      "cell_type": "code",
      "source": [
        "df_final.info()\n",
        "df_final.to_csv('result_2.csv', index=False)"
      ],
      "metadata": {
        "colab": {
          "base_uri": "https://localhost:8080/"
        },
        "id": "Q6-lZfPUUGKV",
        "outputId": "ff58c8b0-578f-47b9-964c-39544590e16d"
      },
      "execution_count": null,
      "outputs": [
        {
          "output_type": "stream",
          "name": "stdout",
          "text": [
            "<class 'pandas.core.frame.DataFrame'>\n",
            "RangeIndex: 418 entries, 0 to 417\n",
            "Data columns (total 2 columns):\n",
            " #   Column       Non-Null Count  Dtype\n",
            "---  ------       --------------  -----\n",
            " 0   PassengerId  418 non-null    int64\n",
            " 1   Survived     418 non-null    int64\n",
            "dtypes: int64(2)\n",
            "memory usage: 6.7 KB\n"
          ]
        }
      ]
    }
  ],
  "metadata": {
    "colab": {
      "provenance": [],
      "authorship_tag": "ABX9TyNmC9bp9YcA6+5vodO8OEBM"
    },
    "kernelspec": {
      "display_name": "Python 3",
      "name": "python3"
    },
    "language_info": {
      "name": "python"
    }
  },
  "nbformat": 4,
  "nbformat_minor": 0
}